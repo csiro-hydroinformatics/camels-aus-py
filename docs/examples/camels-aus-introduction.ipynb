{
 "cells": [
  {
   "cell_type": "markdown",
   "metadata": {},
   "source": [
    "## CAMELS-AUS\n",
    "\n",
    "**camels-aus** facilitates access from Python to the CAMELS-AUS dataset: [Fowler, K. J. A., Acharya, S. C., Addor, N., Chou, C., and Peel, M. C.: CAMELS-AUS: Hydrometeorological time series and landscape attributes for 222 catchments in Australia, Earth Syst. Sci. Data Discuss. [preprint], https://doi.org/10.5194/essd-2020-228, in review, 2021. ](https://essd.copernicus.org/preprints/essd-2020-228)\n"
   ]
  },
  {
   "cell_type": "code",
   "execution_count": null,
   "metadata": {},
   "outputs": [],
   "source": [
    "import os\n",
    "from camels_aus.repository import CamelsAus, download_camels_aus"
   ]
  },
  {
   "cell_type": "markdown",
   "metadata": {},
   "source": [
    "`CamelsAus` is a repository that takes care of loading the data from disk and fives it access as a consolidated dataset to the user, using xarray for most data."
   ]
  },
  {
   "cell_type": "code",
   "execution_count": null,
   "metadata": {},
   "outputs": [],
   "source": [
    "repo = CamelsAus()"
   ]
  },
  {
   "cell_type": "markdown",
   "metadata": {},
   "source": [
    "`download_camels_aus` streamlines downloading and extracting the files making up CAMELS-AUS 1.0."
   ]
  },
  {
   "cell_type": "code",
   "execution_count": null,
   "metadata": {},
   "outputs": [],
   "source": [
    "camels_dir = os.path.join(os.getenv(\"HOME\"), 'data/camels/aus')\n",
    "download_camels_aus(camels_dir)"
   ]
  },
  {
   "cell_type": "code",
   "execution_count": null,
   "metadata": {},
   "outputs": [],
   "source": [
    "repo.load_from_text_files(camels_dir)\n",
    "repo.data"
   ]
  },
  {
   "cell_type": "code",
   "execution_count": null,
   "metadata": {},
   "outputs": [],
   "source": [
    "import pandas as pd\n",
    "time_interval = slice(pd.Timestamp('2009-01-01'), pd.Timestamp('2012-01-01')) \n",
    "repo.data.streamflow_mmd.sel(station_id='912101A', time=time_interval).plot(figsize = (16,4))"
   ]
  },
  {
   "cell_type": "code",
   "execution_count": null,
   "metadata": {},
   "outputs": [],
   "source": [
    "repo.boundaries.plot()"
   ]
  },
  {
   "cell_type": "markdown",
   "metadata": {},
   "source": [
    "### Experimental interactive viewer with ipyleaflet\n",
    "\n",
    "Using personal experimental components ([ipyleaflet-dashboard-tools](https://github.com/jmp75/ipyleaflet-dashboard-tools)) that should probably find a home to [leafmaptools](https://github.com/giswqs/leafmaptools)\n",
    "\n",
    "![leaflet_viewer_teaser.png](https://github.com/csiro-hydroinformatics/camels-aus-py/raw/testing/docs/examples/leaflet_viewer_teaser.png)\n"
   ]
  },
  {
   "cell_type": "markdown",
   "metadata": {},
   "source": [
    "The following cells may work if you have installed ipleaflet and the experimental ipyleaflet tools. This is under constructions and not documented in details"
   ]
  },
  {
   "cell_type": "code",
   "execution_count": null,
   "metadata": {},
   "outputs": [],
   "source": [
    "import matplotlib\n",
    "from ipywidgets import Output, HBox\n",
    "from ipyleaflet_dashboard_tools.gv import *\n",
    "\n",
    "import json\n",
    "from ipyleaflet import Map, GeoJSON"
   ]
  },
  {
   "cell_type": "code",
   "execution_count": null,
   "metadata": {},
   "outputs": [],
   "source": [
    "%%time \n",
    "ds = repo.data\n",
    "v = GeoViewer(ds, lat='lat_outlet', lon='long_outlet', key='station_id')\n",
    "\n",
    "out = Output()\n",
    "\n",
    "click_handler_plot_ts = v.mk_click_handler_plot_ts(out, variable=\"streamflow_mmd\")\n",
    "mapview = v.build_map(click_handler_plot_ts)\n",
    "\n",
    "mapview.layout.height = '600px'"
   ]
  },
  {
   "cell_type": "code",
   "execution_count": null,
   "metadata": {},
   "outputs": [],
   "source": [
    "%%time \n",
    "gj = repo.boundaries.to_json()\n",
    "d = json.loads(gj)"
   ]
  },
  {
   "cell_type": "code",
   "execution_count": null,
   "metadata": {},
   "outputs": [],
   "source": [
    "%%time \n",
    "geo_json = GeoJSON(data=d, style = {'color': 'Blue', 'opacity':1, 'weight':1.9, 'dashArray':'9', 'fillOpacity':0.1})\n",
    "mapview.add_layer(geo_json)"
   ]
  },
  {
   "cell_type": "code",
   "execution_count": null,
   "metadata": {},
   "outputs": [],
   "source": [
    "HBox([mapview, out])"
   ]
  },
  {
   "cell_type": "code",
   "execution_count": null,
   "metadata": {},
   "outputs": [],
   "source": []
  }
 ],
 "metadata": {
  "jupytext": {
   "formats": "ipynb,py:percent"
  },
  "kernelspec": {
   "display_name": "CAMELS",
   "language": "python",
   "name": "camels"
  },
  "language_info": {
   "codemirror_mode": {
    "name": "ipython",
    "version": 3
   },
   "file_extension": ".py",
   "mimetype": "text/x-python",
   "name": "python",
   "nbconvert_exporter": "python",
   "pygments_lexer": "ipython3",
   "version": "3.9.2"
  }
 },
 "nbformat": 4,
 "nbformat_minor": 4
}
